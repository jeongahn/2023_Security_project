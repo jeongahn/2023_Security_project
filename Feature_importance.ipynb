{
 "cells": [
  {
   "cell_type": "code",
   "execution_count": 1,
   "metadata": {},
   "outputs": [],
   "source": [
    "import numpy as np\n",
    "import pandas as pd\n",
    "from sklearn.model_selection import train_test_split\n",
    "from sklearn.ensemble import RandomForestClassifier\n",
    "\n",
    "# 데이터 경로 확인 및 데이터 읽기\n",
    "data = pd.read_csv('/Users/j_j.ahn/ML_DL/DL_study/Security_project/Dataset/train.csv')\n",
    "\n",
    "\n",
    "data = pd.get_dummies(data, columns=['Src IP', 'Protocol', 'Dst IP', 'Flags', 'Timestamp'])\n",
    "data.head()\n",
    "# Label을 제외한 열을 feature로, Label을 target으로 지정\n",
    "X = data.drop(['Label'], axis=1)\n",
    "\n",
    "\n"
   ]
  },
  {
   "cell_type": "code",
   "execution_count": null,
   "metadata": {},
   "outputs": [],
   "source": []
  }
 ],
 "metadata": {
  "kernelspec": {
   "display_name": "DL_env",
   "language": "python",
   "name": "python3"
  },
  "language_info": {
   "codemirror_mode": {
    "name": "ipython",
    "version": 3
   },
   "file_extension": ".py",
   "mimetype": "text/x-python",
   "name": "python",
   "nbconvert_exporter": "python",
   "pygments_lexer": "ipython3",
   "version": "3.9.18"
  }
 },
 "nbformat": 4,
 "nbformat_minor": 2
}
